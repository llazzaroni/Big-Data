{
 "cells": [
  {
   "cell_type": "markdown",
   "metadata": {
    "slideshow": {
     "slide_type": "slide"
    }
   },
   "source": [
    "### Origin of the data\n",
    "\n",
    "The data used for the queries in the following sections come from orders dataset. The data in the dataset follow the schema:"
   ]
  },
  {
   "cell_type": "raw",
   "metadata": {
    "vscode": {
     "languageId": "raw"
    }
   },
   "source": [
    "root\n",
    " |-- customer: struct (nullable = true)\n",
    " |    |-- first_name: string (nullable = true)\n",
    " |    |-- last_name: string (nullable = true)\n",
    " |-- date: string (nullable = true)\n",
    " |-- items: array (nullable = true)\n",
    " |    |-- element: struct (containsNull = true)\n",
    " |    |    |-- price: double (nullable = true)\n",
    " |    |    |-- product: string (nullable = true)\n",
    " |    |    |-- quantity: long (nullable = true)\n",
    " |-- order_id: long (nullable = true)"
   ]
  },
  {
   "cell_type": "markdown",
   "metadata": {},
   "source": [
    "#### 1. Find the number of distinct products"
   ]
  },
  {
   "cell_type": "code",
   "execution_count": null,
   "metadata": {},
   "outputs": [],
   "source": [
    "orders_df.select(explode(\"items\").alias(\"i\")).select(\"i.product\").distinct().count()"
   ]
  },
  {
   "cell_type": "markdown",
   "metadata": {},
   "source": [
    "#### 2. Find the average quantity at which each product is purchased. Only show the top 10 products by quantity. \n"
   ]
  },
  {
   "cell_type": "code",
   "execution_count": null,
   "metadata": {},
   "outputs": [],
   "source": [
    "orders_df.select(explode(\"items\").alias(\"i\")).select(\"i.product\", \"i.quantity\") \\\n",
    "    .groupBy(\"product\").avg(\"quantity\").orderBy(desc(\"avg(quantity)\")).take(10)"
   ]
  },
  {
   "cell_type": "markdown",
   "metadata": {},
   "source": [
    "#### 3. Find the most expensive order"
   ]
  },
  {
   "cell_type": "code",
   "execution_count": null,
   "metadata": {},
   "outputs": [],
   "source": [
    "exploded_df = orders_df.select(\"order_id\", explode(\"items\").alias(\"i\")).select(\"order_id\", \"i.price\", \"i.quantity\")\n",
    "exploded_df.select(exploded_df[\"order_id\"], (exploded_df[\"price\"] * exploded_df[\"quantity\"]).alias(\"p\")) \\\n",
    "    .groupBy(\"order_id\").sum(\"p\").orderBy(desc(\"sum(p)\")).take(1)"
   ]
  },
  {
   "cell_type": "markdown",
   "metadata": {},
   "source": [
    "### Origin of the data\n",
    "\n",
    "The next queries are run on the following dataset:\n",
    "\n",
    "https://f003.backblazeb2.com/file/larsyencken-eu-public/greatlanguagegame/confusion-2014-03-02.tbz2\n",
    "\n",
    "It follows the schema:"
   ]
  },
  {
   "cell_type": "raw",
   "metadata": {},
   "source": [
    "root\n",
    " |-- choices: array (nullable = true)\n",
    " |    |-- element: string (containsNull = true)\n",
    " |-- country: string (nullable = true)\n",
    " |-- date: string (nullable = true)\n",
    " |-- guess: string (nullable = true)\n",
    " |-- sample: string (nullable = true)\n",
    " |-- target: string (nullable = true)"
   ]
  },
  {
   "cell_type": "markdown",
   "metadata": {},
   "source": [
    "#### 4. Find the number of games where the guessed language and target language is Maltese."
   ]
  },
  {
   "cell_type": "code",
   "execution_count": null,
   "metadata": {},
   "outputs": [],
   "source": [
    "dataset.filter(dataset[\"guess\"] == \"Maltese\").filter(dataset[\"target\"] == \"Maltese\").count()"
   ]
  },
  {
   "cell_type": "markdown",
   "metadata": {},
   "source": [
    "#### 5. Return the number of distinct \"target\" languages."
   ]
  },
  {
   "cell_type": "code",
   "execution_count": null,
   "metadata": {},
   "outputs": [],
   "source": [
    "dataset.select(\"target\").distinct().count()"
   ]
  },
  {
   "cell_type": "markdown",
   "metadata": {},
   "source": [
    "#### 6. Return the sample IDs (i.e., the \"sample\" field) of the first three games where the guessed language is correct (equal to the target one) ordered by date (descending), then by language (ascending), then by country (descending). "
   ]
  },
  {
   "cell_type": "code",
   "execution_count": null,
   "metadata": {},
   "outputs": [],
   "source": [
    "dataset.filter(dataset[\"target\"] == dataset[\"guess\"]). \\\n",
    "    orderBy(dataset[\"date\"].desc(), dataset[\"guess\"].asc(), dataset[\"country\"].desc()).take(3)                                                            "
   ]
  },
  {
   "cell_type": "markdown",
   "metadata": {},
   "source": [
    "#### 7. Aggregate all games by country and \"guess\" language, counting the number of guesses for each group and return the frequencies of the two most frequent country/language combinations."
   ]
  },
  {
   "cell_type": "code",
   "execution_count": null,
   "metadata": {},
   "outputs": [],
   "source": [
    "dataset.select(\"country\", \"guess\").groupBy([\"country\", \"guess\"]).count().orderBy(desc(\"count\")).take(2)"
   ]
  },
  {
   "cell_type": "markdown",
   "metadata": {},
   "source": [
    "#### 8 Sort the languages by decreasing overall percentage of correct guesses and return the first four languages. \n"
   ]
  },
  {
   "cell_type": "code",
   "execution_count": null,
   "metadata": {},
   "outputs": [],
   "source": [
    "correct_df = dataset.filter(dataset[\"target\"] == dataset[\"guess\"]).groupBy(\"target\").count(). \\\n",
    "    withColumnRenamed(\"count\", \"correct\")\n",
    "mistakes_df = dataset.groupBy(\"target\").count().withColumnRenamed(\"count\", \"total\")\n",
    "df = correct_df.join(mistakes_df, \"target\")\n",
    "df.select(\"target\", (df[\"correct\"]/df[\"total\"]).alias(\"perc\")).orderBy(desc(\"perc\")).take(1)"
   ]
  }
 ],
 "metadata": {
  "kernelspec": {
   "display_name": "machineperception",
   "language": "python",
   "name": "python3"
  },
  "language_info": {
   "codemirror_mode": {
    "name": "ipython",
    "version": 3
   },
   "file_extension": ".py",
   "mimetype": "text/x-python",
   "name": "python",
   "nbconvert_exporter": "python",
   "pygments_lexer": "ipython3",
   "version": "3.10.16"
  }
 },
 "nbformat": 4,
 "nbformat_minor": 2
}
