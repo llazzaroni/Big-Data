{
 "cells": [
  {
   "cell_type": "markdown",
   "metadata": {},
   "source": [
    "### Origin of the data\n",
    "\n",
    "The data used for the queries in the following sections come from the dataset:\n",
    "- [Discogs](https://www.discogs.com/)"
   ]
  },
  {
   "cell_type": "markdown",
   "metadata": {},
   "source": [
    "#### 1. Retrieve all releases that were released after January 1, 2017."
   ]
  },
  {
   "cell_type": "code",
   "execution_count": null,
   "metadata": {},
   "outputs": [],
   "source": [
    "%%sql\n",
    "SELECT *\n",
    "FROM releases\n",
    "WHERE released >= '2017-01-01'"
   ]
  },
  {
   "cell_type": "markdown",
   "metadata": {},
   "source": [
    "#### 2. Find all tracks with a duration longer than 7 hours. Assume the 'duration' column in the 'tracks' table is in seconds."
   ]
  },
  {
   "cell_type": "code",
   "execution_count": null,
   "metadata": {},
   "outputs": [],
   "source": [
    "%%sql\n",
    "SELECT *\n",
    "FROM tracks\n",
    "WHERE duration > 25200"
   ]
  },
  {
   "cell_type": "markdown",
   "metadata": {},
   "source": [
    "#### 3. Retrieve the titles of 5 releases along with the names of the artists who released them."
   ]
  },
  {
   "cell_type": "code",
   "execution_count": null,
   "metadata": {},
   "outputs": [],
   "source": [
    "%%sql\n",
    "SELECT releases.title, artists.name\n",
    "FROM released_by\n",
    "JOIN artists ON artists.artist_id = released_by.artist_id\n",
    "JOIN releases ON releases.release_id = released_by.release_id\n",
    "LIMIT 5"
   ]
  },
  {
   "cell_type": "markdown",
   "metadata": {},
   "source": [
    "#### 4. List each genre and the number of releases in that genre."
   ]
  },
  {
   "cell_type": "code",
   "execution_count": null,
   "metadata": {},
   "outputs": [],
   "source": [
    "%%sql\n",
    "SELECT genre, COUNT(*)\n",
    "FROM releases\n",
    "GROUP BY genre"
   ]
  },
  {
   "cell_type": "markdown",
   "metadata": {},
   "source": [
    "#### 5. Identify the top 5 artists who have the most releases."
   ]
  },
  {
   "cell_type": "code",
   "execution_count": null,
   "metadata": {},
   "outputs": [],
   "source": [
    "%%sql\n",
    "SELECT artists.name, released_by.artist_id, COUNT(*)\n",
    "FROM released_by\n",
    "JOIN artists ON artists.artist_id = released_by.artist_id\n",
    "JOIN releases ON releases.release_id = released_by.release_id\n",
    "GROUP BY artists.name, released_by.artist_id\n",
    "ORDER BY COUNT(*) DESC\n",
    "LIMIT 5"
   ]
  },
  {
   "cell_type": "markdown",
   "metadata": {},
   "source": [
    "#### 6. Find the artist who has the longest total duration of tracks across all their releases."
   ]
  },
  {
   "cell_type": "code",
   "execution_count": null,
   "metadata": {},
   "outputs": [],
   "source": [
    "%%sql\n",
    "SELECT artists.name, released_by.artist_id, SUM(tracks.duration)\n",
    "FROM released_by\n",
    "JOIN artists ON artists.artist_id = released_by.artist_id\n",
    "JOIN releases ON releases.release_id = released_by.release_id\n",
    "JOIN tracks ON releases.release_id = tracks.release_id\n",
    "GROUP BY artists.name, released_by.artist_id\n",
    "ORDER BY SUM(tracks.duration) DESC\n",
    "LIMIT 1"
   ]
  },
  {
   "cell_type": "markdown",
   "metadata": {},
   "source": [
    "#### 7. Find how many releases that have tracks with duplicate titles."
   ]
  },
  {
   "cell_type": "code",
   "execution_count": null,
   "metadata": {},
   "outputs": [],
   "source": [
    "%%sql\n",
    "SELECT COUNT(DISTINCT release_id)\n",
    "FROM (\n",
    "    SELECT tracks.release_id, tracks.title\n",
    "    FROM tracks\n",
    "    GROUP BY tracks.release_id, tracks.title\n",
    "    HAVING COUNT(*) > 1\n",
    ")"
   ]
  },
  {
   "cell_type": "markdown",
   "metadata": {},
   "source": [
    "#### 8. Retrieve the artists with the name of 'Coldplay'."
   ]
  },
  {
   "cell_type": "code",
   "execution_count": null,
   "metadata": {},
   "outputs": [],
   "source": [
    "%%sql\n",
    "SELECT *\n",
    "FROM artists\n",
    "WHERE name = 'Coldplay'"
   ]
  },
  {
   "cell_type": "markdown",
   "metadata": {},
   "source": [
    "#### 9. List the titles of all releases by that artist in alphabetical order."
   ]
  },
  {
   "cell_type": "markdown",
   "metadata": {},
   "source": [
    "%%sql\n",
    "SELECT DISTINCT releases.title\n",
    "FROM artists\n",
    "JOIN released_by ON released_by.artist_id = artists.artist_id\n",
    "JOIN releases ON released_by.release_id = releases.release_id\n",
    "WHERE artists.name = 'Coldplay'\n",
    "ORDER BY releases.title ASC"
   ]
  },
  {
   "cell_type": "markdown",
   "metadata": {},
   "source": [
    "#### 10. How many tracks from 'Coldplay' have position '1'?"
   ]
  },
  {
   "cell_type": "code",
   "execution_count": null,
   "metadata": {},
   "outputs": [],
   "source": [
    "%%sql\n",
    "SELECT COUNT(DISTINCT tracks.track_id)\n",
    "FROM artists\n",
    "JOIN released_by ON released_by.artist_id = artists.artist_id\n",
    "JOIN releases ON released_by.release_id = releases.release_id\n",
    "JOIN tracks ON tracks.release_id = releases.release_id\n",
    "WHERE artists.name = 'Coldplay' AND tracks.position = '1'"
   ]
  },
  {
   "cell_type": "markdown",
   "metadata": {},
   "source": [
    "#### 11. List the titles of all releases by Coldplay that contain less than 2 tracks."
   ]
  },
  {
   "cell_type": "code",
   "execution_count": null,
   "metadata": {},
   "outputs": [],
   "source": [
    "%%sql\n",
    "SELECT DISTINCT releases.title\n",
    "FROM artists\n",
    "JOIN released_by ON released_by.artist_id = artists.artist_id\n",
    "JOIN releases ON released_by.release_id = releases.release_id\n",
    "JOIN tracks ON tracks.release_id = releases.release_id\n",
    "WHERE artists.name = 'Coldplay'\n",
    "GROUP BY releases.release_id, releases.title\n",
    "HAVING COUNT(DISTINCT tracks.track_id) < 2"
   ]
  },
  {
   "cell_type": "markdown",
   "metadata": {},
   "source": [
    "#### 12. What is the average track duration?"
   ]
  },
  {
   "cell_type": "code",
   "execution_count": null,
   "metadata": {},
   "outputs": [],
   "source": [
    "%%sql\n",
    "SELECT AVG(duration) FROM tracks"
   ]
  },
  {
   "cell_type": "markdown",
   "metadata": {},
   "source": [
    "#### 13. How many artists have released tracks longer than twice the average?"
   ]
  },
  {
   "cell_type": "code",
   "execution_count": null,
   "metadata": {},
   "outputs": [],
   "source": [
    "%%sql\n",
    "WITH avg_duration AS (\n",
    "    SELECT AVG(duration) AS a\n",
    "    FROM tracks\n",
    ")\n",
    "SELECT COUNT(*)\n",
    "FROM (\n",
    "    SELECT artists.artist_id\n",
    "    FROM avg_duration, artists\n",
    "    JOIN released_by ON released_by.artist_id = artists.artist_id\n",
    "    JOIN releases ON released_by.release_id = releases.release_id\n",
    "    JOIN tracks ON tracks.release_id = releases.release_id\n",
    "    GROUP BY artists.artist_id, avg_duration.a\n",
    "    HAVING MAX(tracks.duration) > avg_duration.a * 2\n",
    ")"
   ]
  },
  {
   "cell_type": "markdown",
   "metadata": {},
   "source": [
    "#### 14. What is the title of the album from 'Coldplay' with the most amount of tracks?"
   ]
  },
  {
   "cell_type": "code",
   "execution_count": null,
   "metadata": {},
   "outputs": [],
   "source": [
    "%%sql\n",
    "SELECT releases.title, COUNT(*)\n",
    "FROM artists\n",
    "JOIN released_by ON released_by.artist_id = artists.artist_id\n",
    "JOIN releases ON releases.release_id = released_by.release_id\n",
    "JOIN tracks ON tracks.release_id = releases.release_id\n",
    "WHERE artists.name = 'Coldplay'\n",
    "GROUP BY releases.release_id, releases.title\n",
    "ORDER BY COUNT(*) DESC\n",
    "LIMIT 1"
   ]
  },
  {
   "cell_type": "markdown",
   "metadata": {},
   "source": [
    "#### 15. What is the name of the first artist in alphabetical order with releases in the most genres. Please make sure to exclude \"Various Artists\"."
   ]
  },
  {
   "cell_type": "code",
   "execution_count": null,
   "metadata": {},
   "outputs": [],
   "source": [
    "%%sql\n",
    "SELECT artists.name AS artist_name, COUNT(DISTINCT releases.genre) AS number_genres\n",
    "FROM artists\n",
    "JOIN released_by ON released_by.artist_id = artists.artist_id\n",
    "JOIN releases ON releases.release_id = released_by.release_id\n",
    "WHERE artists.name != 'Various Artists'\n",
    "GROUP BY artists.name, artists.artist_id\n",
    "ORDER BY number_genres DESC, artist_name ASC\n",
    "LIMIT 1"
   ]
  },
  {
   "cell_type": "markdown",
   "metadata": {},
   "source": [
    "#### 16. In what year did they (the artist from the previous question) release their first album?"
   ]
  },
  {
   "cell_type": "code",
   "execution_count": null,
   "metadata": {},
   "outputs": [],
   "source": [
    "%%sql\n",
    "WITH most_genres_artist AS (\n",
    "    SELECT artists.name AS artist_name, artists.artist_id AS artist_id\n",
    "    FROM artists\n",
    "    JOIN released_by ON released_by.artist_id = artists.artist_id\n",
    "    JOIN releases ON releases.release_id = released_by.release_id\n",
    "    WHERE artists.name != 'Various Artists'\n",
    "    GROUP BY artists.name, artists.artist_id\n",
    "    ORDER BY COUNT(DISTINCT releases.genre) DESC, artist_name ASC\n",
    "    LIMIT 1\n",
    ")\n",
    "\n",
    "SELECT releases.released\n",
    "FROM most_genres_artist\n",
    "JOIN released_by ON released_by.artist_id = most_genres_artist.artist_id\n",
    "JOIN releases ON releases.release_id = released_by.release_id\n",
    "ORDER BY releases.released ASC\n",
    "LIMIT 1"
   ]
  },
  {
   "cell_type": "markdown",
   "metadata": {},
   "source": [
    "#### 17. How many artists have released an album with total track duration above twice the average total track duration?\n"
   ]
  },
  {
   "cell_type": "code",
   "execution_count": null,
   "metadata": {},
   "outputs": [],
   "source": [
    "%%sql\n",
    "WITH album_durations AS (\n",
    "    SELECT artists.artist_id AS artist_id, releases.release_id AS release_id, SUM(tracks.duration) AS album_duration\n",
    "    FROM artists\n",
    "    JOIN released_by ON released_by.artist_id = artists.artist_id\n",
    "    JOIN releases ON releases.release_id = released_by.release_id\n",
    "    JOIN tracks ON releases.release_id = tracks.release_id\n",
    "    GROUP BY artists.artist_id, releases.release_id\n",
    "),\n",
    "album_max_duration AS (\n",
    "    SELECT artist_id AS artist_id, MAX(album_duration) AS max_duration\n",
    "    FROM album_durations\n",
    "    GROUP BY artist_id\n",
    "),\n",
    "total_duration AS (\n",
    "    SELECT release_id, SUM(duration) AS total_duration\n",
    "    FROM tracks\n",
    "    GROUP BY release_id\n",
    "),\n",
    "average_duration AS (\n",
    "    SELECT AVG(total_duration) as avg_duration\n",
    "    FROM total_duration\n",
    ")\n",
    "\n",
    "SELECT COUNT(*)\n",
    "FROM album_max_duration, average_duration\n",
    "WHERE album_max_duration.max_duration > 2 * average_duration.avg_duration\n"
   ]
  },
  {
   "cell_type": "markdown",
   "metadata": {},
   "source": [
    "#### 18. Show the artists have more than 200 releases in total but have no releases with the genre 'Pop' in reversed alphabetical order."
   ]
  },
  {
   "cell_type": "code",
   "execution_count": null,
   "metadata": {},
   "outputs": [],
   "source": [
    "%%sql\n",
    "SELECT name\n",
    "FROM (\n",
    "    SELECT artists.name\n",
    "    FROM artists\n",
    "    JOIN released_by ON released_by.artist_id = artists.artist_id\n",
    "    GROUP BY artists.artist_id, artists.name\n",
    "    HAVING COUNT(*) > 200\n",
    "    EXCEPT\n",
    "    SELECT artists.name\n",
    "    FROM artists\n",
    "    JOIN released_by ON released_by.artist_id = artists.artist_id\n",
    "    JOIN releases ON releases.release_id = released_by.release_id\n",
    "    WHERE releases.genre = 'Pop'\n",
    ")\n",
    "ORDER BY name DESC"
   ]
  }
 ],
 "metadata": {
  "kernelspec": {
   "display_name": "machineperception",
   "language": "python",
   "name": "python3"
  },
  "language_info": {
   "codemirror_mode": {
    "name": "ipython",
    "version": 3
   },
   "file_extension": ".py",
   "mimetype": "text/x-python",
   "name": "python",
   "nbconvert_exporter": "python",
   "pygments_lexer": "ipython3",
   "version": "3.10.16"
  }
 },
 "nbformat": 4,
 "nbformat_minor": 2
}
