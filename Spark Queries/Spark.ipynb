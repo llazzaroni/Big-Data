{
 "cells": [
  {
   "cell_type": "markdown",
   "metadata": {},
   "source": [
    "### Movies Dataset\n",
    "\n",
    "The queries are run on the following dataset:\n",
    "\n",
    "- `name`: string containing the name of the movie.\n",
    "- `genres`: string containing comma-delimited ganres of the movie.\n",
    "- `year`: integer year of the movie\n",
    "- `votes`: integer with number of votes of the movie\n",
    "- `rating`: string containing the rating of the movie\n",
    "- `actors`: an array representing a set of actors, where each element is a dictionary with the following key-value pairs:\n",
    "    - `name`: string with the name of the actor\n",
    "    - `birth`: integer with year of birth of the actor\n",
    "    - `death`: integer with the year of death of the actor"
   ]
  },
  {
   "cell_type": "markdown",
   "metadata": {},
   "source": [
    "#### 1. Find how many movies were released in the year 1996"
   ]
  },
  {
   "cell_type": "code",
   "execution_count": null,
   "metadata": {},
   "outputs": [],
   "source": [
    "movies.filter(lambda x: int(x[\"year\"]) == 1996).count()"
   ]
  },
  {
   "cell_type": "markdown",
   "metadata": {},
   "source": [
    "#### 2. Find the average rating of the movies of the genre \"Action\""
   ]
  },
  {
   "cell_type": "code",
   "execution_count": null,
   "metadata": {},
   "outputs": [],
   "source": [
    "movies.filter(lambda x: \"Action\" in x[\"genres\"]).map(lambda x: float(x[\"rating\"])).mean()"
   ]
  },
  {
   "cell_type": "markdown",
   "metadata": {},
   "source": [
    "#### 3. Find how many distinct genres are present in the dataset"
   ]
  },
  {
   "cell_type": "code",
   "execution_count": null,
   "metadata": {},
   "outputs": [],
   "source": [
    "def f(x):\n",
    "    return x.split(',')\n",
    "\n",
    "\n",
    "movies.flatMap(lambda x: f(x[\"genres\"])).distinct().count()"
   ]
  },
  {
   "cell_type": "markdown",
   "metadata": {},
   "source": [
    "#### 4. Find the two actors who appeared in the greatest number of movies"
   ]
  },
  {
   "cell_type": "code",
   "execution_count": null,
   "metadata": {},
   "outputs": [],
   "source": [
    "def f(x):\n",
    "    result = []\n",
    "    for actor in x:\n",
    "        result.append(actor)\n",
    "    return result\n",
    "    \n",
    "movies.flatMap(lambda x: f(x[\"actors\"])).map(lambda x: (x[\"name\"], 1)). \\\n",
    "    reduceByKey(lambda x, y: x+y).sortBy(lambda x: x[1], ascending=False).take(2)"
   ]
  },
  {
   "cell_type": "markdown",
   "metadata": {},
   "source": [
    "#### 5. Count the number of words in the title of each movie in the dataset, and determine the three most common word counts along with their frequencies."
   ]
  },
  {
   "cell_type": "code",
   "execution_count": null,
   "metadata": {},
   "outputs": [],
   "source": [
    "movies.map(lambda x: (len(x[\"name\"].split()), 1)).reduceByKey(lambda x, y: x+y). \\\n",
    "    sortBy(lambda x: x[1], ascending=False).take(3)"
   ]
  },
  {
   "cell_type": "markdown",
   "metadata": {},
   "source": [
    "#### 6. What is the movies with the highest rating in the year 1989?"
   ]
  },
  {
   "cell_type": "code",
   "execution_count": null,
   "metadata": {},
   "outputs": [],
   "source": [
    "movies.filter(lambda x: int(x[\"year\"]) == 1989).map(lambda x: [float(x[\"rating\"]), x[\"name\"]]). \\\n",
    "    sortBy(lambda x: x[0], ascending=False).take(1)"
   ]
  },
  {
   "cell_type": "markdown",
   "metadata": {},
   "source": [
    "#### 7. Find the two movies with the highest number of actors released in the year 1980"
   ]
  },
  {
   "cell_type": "code",
   "execution_count": null,
   "metadata": {},
   "outputs": [],
   "source": [
    "movies.filter(lambda x: int(x[\"year\"]) == 1980).map(lambda x: (len(x[\"actors\"]), x[\"name\"])). \\\n",
    "    sortByKey(ascending=False).take(2)"
   ]
  },
  {
   "cell_type": "markdown",
   "metadata": {},
   "source": [
    "#### 8. How many movies in the genre \"Biography\" were released between the years 1990 and 2000?"
   ]
  },
  {
   "cell_type": "code",
   "execution_count": null,
   "metadata": {},
   "outputs": [],
   "source": [
    "movies.filter(lambda x: int(x[\"year\"]) >= 1990 and int(x[\"year\"]) <= 2000). \\\n",
    "    filter(lambda x: \"Biography\" in x[\"genres\"]).count()"
   ]
  }
 ],
 "metadata": {
  "language_info": {
   "name": "python"
  }
 },
 "nbformat": 4,
 "nbformat_minor": 2
}
