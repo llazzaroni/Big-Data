{
 "cells": [
  {
   "cell_type": "markdown",
   "metadata": {},
   "source": [
    "### Origin of the data\n",
    "\n",
    "The data used for the queries in the following sections come from orders dataset. The data in the dataset follow the schema:"
   ]
  },
  {
   "cell_type": "raw",
   "metadata": {
    "vscode": {
     "languageId": "raw"
    }
   },
   "source": [
    "root\n",
    " |-- customer: struct (nullable = true)\n",
    " |    |-- first_name: string (nullable = true)\n",
    " |    |-- last_name: string (nullable = true)\n",
    " |-- date: string (nullable = true)\n",
    " |-- items: array (nullable = true)\n",
    " |    |-- element: struct (containsNull = true)\n",
    " |    |    |-- price: double (nullable = true)\n",
    " |    |    |-- product: string (nullable = true)\n",
    " |    |    |-- quantity: long (nullable = true)\n",
    " |-- order_id: long (nullable = true)"
   ]
  },
  {
   "cell_type": "markdown",
   "metadata": {
    "vscode": {
     "languageId": "raw"
    }
   },
   "source": [
    "#### 1. Find the number of distinct products"
   ]
  },
  {
   "cell_type": "code",
   "execution_count": null,
   "metadata": {},
   "outputs": [],
   "source": [
    "%%sparksql\n",
    "SELECT COUNT(*)\n",
    "FROM (\n",
    "    SELECT DISTINCT i.product\n",
    "    FROM orders\n",
    "    LATERAL VIEW EXPLODE(items) AS i\n",
    ")"
   ]
  },
  {
   "cell_type": "markdown",
   "metadata": {},
   "source": [
    "#### 2. Find the average quantity at which each product is purchased. Only show the top 10 products by quantity. "
   ]
  },
  {
   "cell_type": "code",
   "execution_count": null,
   "metadata": {},
   "outputs": [],
   "source": [
    "%%sparksql\n",
    "SELECT i.product AS product, AVG(i.quantity) AS avg\n",
    "FROM orders\n",
    "LATERAL VIEW EXPLODE(items) AS i\n",
    "GROUP BY product\n",
    "ORDER BY avg DESC\n",
    "LIMIT 10"
   ]
  },
  {
   "cell_type": "markdown",
   "metadata": {},
   "source": [
    "#### 3. Find the most expensive order"
   ]
  },
  {
   "cell_type": "code",
   "execution_count": null,
   "metadata": {},
   "outputs": [],
   "source": [
    "%%sparksql\n",
    "SELECT order_id, SUM(i.price * i.quantity) AS p\n",
    "FROM orders\n",
    "LATERAL VIEW EXPLODE(items) AS i\n",
    "GROUP BY order_id\n",
    "ORDER BY p DESC\n",
    "LIMIT 1"
   ]
  },
  {
   "cell_type": "markdown",
   "metadata": {},
   "source": [
    "### Origin of the data\n",
    "\n",
    "The next queries are run on the following dataset:\n",
    "\n",
    "https://f003.backblazeb2.com/file/larsyencken-eu-public/greatlanguagegame/confusion-2014-03-02.tbz2\n",
    "\n",
    "It follows the schema:"
   ]
  },
  {
   "cell_type": "raw",
   "metadata": {
    "vscode": {
     "languageId": "raw"
    }
   },
   "source": [
    "root\n",
    " |-- choices: array (nullable = true)\n",
    " |    |-- element: string (containsNull = true)\n",
    " |-- country: string (nullable = true)\n",
    " |-- date: string (nullable = true)\n",
    " |-- guess: string (nullable = true)\n",
    " |-- sample: string (nullable = true)\n",
    " |-- target: string (nullable = true)"
   ]
  },
  {
   "cell_type": "markdown",
   "metadata": {},
   "source": [
    "#### 4. Find the number of games where the guessed language and target language is Maltese."
   ]
  },
  {
   "cell_type": "code",
   "execution_count": null,
   "metadata": {},
   "outputs": [],
   "source": [
    "%%sparksql\n",
    "SELECT count(*)\n",
    "FROM dataset\n",
    "WHERE dataset.guess = dataset.target AND dataset.guess == \"Maltese\""
   ]
  },
  {
   "cell_type": "markdown",
   "metadata": {},
   "source": [
    "#### 5. Return the number of distinct \"target\" languages."
   ]
  },
  {
   "cell_type": "code",
   "execution_count": null,
   "metadata": {},
   "outputs": [],
   "source": [
    "%%sparksql\n",
    "SELECT count(*)\n",
    "FROM (\n",
    "    SELECT DISTINCT dataset.target\n",
    "    FROM dataset\n",
    ")"
   ]
  },
  {
   "cell_type": "markdown",
   "metadata": {},
   "source": [
    "#### 6. Return the sample IDs (i.e., the \"sample\" field) of the first three games where the guessed language is correct (equal to the target one) ordered by date (descending), then by language (ascending), then by country (descending)."
   ]
  },
  {
   "cell_type": "code",
   "execution_count": null,
   "metadata": {},
   "outputs": [],
   "source": [
    "%%sparksql\n",
    "SELECT sample\n",
    "FROM dataset\n",
    "WHERE dataset.guess == dataset.target\n",
    "ORDER BY dataset.date DESC, dataset.guess ASC, dataset.country DESC\n",
    "LIMIT 3"
   ]
  },
  {
   "cell_type": "markdown",
   "metadata": {},
   "source": [
    "#### 7. Aggregate all games by country and \"guess\" language, counting the number of guesses for each group and return the frequencies of the two most frequent country/language combinations."
   ]
  },
  {
   "cell_type": "code",
   "execution_count": null,
   "metadata": {},
   "outputs": [],
   "source": [
    "%%sparksql\n",
    "SELECT dataset.country, dataset.guess, count(*) AS count\n",
    "FROM dataset\n",
    "GROUP BY dataset.country, dataset.guess\n",
    "ORDER BY count DESC\n",
    "LIMIT 2"
   ]
  },
  {
   "cell_type": "markdown",
   "metadata": {},
   "source": [
    "#### 8. Sort the languages by decreasing overall percentage of correct guesses and return the first four languages."
   ]
  },
  {
   "cell_type": "code",
   "execution_count": null,
   "metadata": {},
   "outputs": [],
   "source": [
    "%%sparksql\n",
    "WITH total_targets AS (\n",
    "    SELECT dataset.target AS target, count(*) AS total\n",
    "    FROM dataset\n",
    "    GROUP BY target\n",
    "    ),\n",
    "correct_guesses AS (\n",
    "    SELECT dataset.guess AS guess, count(*) AS correct\n",
    "    FROM dataset\n",
    "    WHERE dataset.guess == dataset.target\n",
    "    GROUP BY guess\n",
    "    )\n",
    "SELECT total_targets.target, correct_guesses.correct / total_targets.total AS percentage\n",
    "FROM total_targets\n",
    "JOIN correct_guesses ON correct_guesses.guess == total_targets.target\n",
    "ORDER BY percentage DESC\n",
    "LIMIT 3"
   ]
  }
 ],
 "metadata": {
  "kernelspec": {
   "display_name": "machineperception",
   "language": "python",
   "name": "python3"
  },
  "language_info": {
   "codemirror_mode": {
    "name": "ipython",
    "version": 3
   },
   "file_extension": ".py",
   "mimetype": "text/x-python",
   "name": "python",
   "nbconvert_exporter": "python",
   "pygments_lexer": "ipython3",
   "version": "3.10.16"
  }
 },
 "nbformat": 4,
 "nbformat_minor": 2
}
