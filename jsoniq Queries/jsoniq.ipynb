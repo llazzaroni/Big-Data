{
 "cells": [
  {
   "cell_type": "markdown",
   "metadata": {},
   "source": [
    "### GitHub Dataset\n",
    "\n",
    "This dataset contains an array of events from a Git repository server. Among other, each event contains the following attributes:\n",
    "\n",
    "- `id`: unique integer identifier of the event\n",
    "- `event`: string name of the event type (e.g. \"PushEvent\", \"PullRequestEvent\", \"IssuesEvent\")\n",
    "- `actor`: key-value map identifying an actor issuing the event\n",
    "- `repo`: key-value map identifying the repository related to the event\n",
    "- `payload`: key-value map with different fields for each event type\n",
    "- `public` : \n",
    "- `created_at`: string with the data of the event in the format YYYY-MM-DDTHH:MM:SSZ, where T and Z are separators (e.g. 2018-01-01T15:00:00Z)\n",
    "\n",
    "PushEvents additionally have information about the commit. <br>\n",
    "An example event can be seen below: <br>\n",
    "{<br>\n",
    "&emsp;\"id\":\"7045118886\", <br>\n",
    "&emsp;\"event\":\"PushEvent\", <br>\n",
    "&emsp;\"actor\":{ <br>\n",
    "&emsp;&emsp; \"id\":20090775,<br>\n",
    "&emsp;&emsp; \"login\":\"lainrose\",<br>\n",
    "&emsp;&emsp; ...<br>\n",
    "&emsp;},<br>\n",
    "&emsp;\"repo\":{<br>\n",
    "&emsp;&emsp; \"id\":115387592,<br>\n",
    "&emsp;&emsp; \"name\":\"lainrose/Python-Grammar\",<br>\n",
    "&emsp;&emsp; \"url\":\"https://api.github.com/repos/lainrose/Python-Grammar\"<br>\n",
    "&emsp;},<br>\n",
    "&emsp;\"payload\":{<br>\n",
    "&emsp;&emsp; \"push_id\":2226161589,<br>\n",
    "&emsp;&emsp; \"commits\":[<br>\n",
    "&emsp;&emsp;&emsp;&nbsp;&nbsp;{<br>\n",
    "&emsp;&emsp;&emsp;&emsp;\"sha\":\"27a01fbdbec8e26daa40fc8faa052dd0be23836a\",<br>\n",
    "&emsp;&emsp;&emsp;&emsp;\"author\":{<br>\n",
    "&emsp;&emsp;&emsp;&emsp;&emsp;\"name\":\"lainrose\",<br>\n",
    "&emsp;&emsp;&emsp;&emsp;&emsp;\"email\":\"fb4676bf30682e2ece361fd363a69ad11779c42e@Naver.com\"<br>\n",
    "&emsp;&emsp;&emsp;&emsp;},<br>\n",
    "&emsp;&emsp;&emsp;&emsp;\"message\":\"Update Study Contents\",<br>\n",
    "&emsp;&emsp;&emsp;&emsp;...<br>\n",
    "&emsp;&emsp;&emsp;&nbsp;&nbsp;}<br>\n",
    "&emsp;&emsp; ]<br>\n",
    "&emsp;},<br>\n",
    "&emsp;\"public\":true,<br>\n",
    "&emsp;\"created_at\":\"2018-01-01T15:00:00Z\"<br>\n",
    "}                                       <br>"
   ]
  },
  {
   "cell_type": "markdown",
   "metadata": {},
   "source": [
    "#### 1. How many repos contain both a DeleEvent and a PushEvent?"
   ]
  },
  {
   "cell_type": "code",
   "execution_count": null,
   "metadata": {},
   "outputs": [],
   "source": [
    "%%jsoniq\n",
    "let $c := count(\n",
    "for $record in json-file(\"git-archive.json\")\n",
    "let $repo_id := $record.repo.id\n",
    "group by $repo_id\n",
    "let $x := [$record.type]\n",
    "where some $i in $x[] satisfies $i = \"DeleteEvent\"\n",
    "where some $i in $x[] satisfies $i = \"PushEvent\"\n",
    "return {\"id\": $repo_id, \"events\": $x}\n",
    ")\n",
    "return $c"
   ]
  },
  {
   "cell_type": "markdown",
   "metadata": {},
   "source": [
    "#### 2. How many records have the type ForkEvent?"
   ]
  },
  {
   "cell_type": "code",
   "execution_count": null,
   "metadata": {},
   "outputs": [],
   "source": [
    "%%jsoniq\n",
    "count(distinct-values(\n",
    "    for $record in json-file(\"git-archive.json\")\n",
    "    where $record.type = \"ForkEvent\"\n",
    "    return $record.id\n",
    "))"
   ]
  },
  {
   "cell_type": "markdown",
   "metadata": {},
   "source": [
    "#### 3. What is the least common type of event?"
   ]
  },
  {
   "cell_type": "code",
   "execution_count": null,
   "metadata": {},
   "outputs": [],
   "source": [
    "%%jsoniq\n",
    "for $record in json-file(\"git-archive.json\")\n",
    "let $type := $record.type\n",
    "group by $type\n",
    "order by count($record) ascending\n",
    "return {\"type\": $type, \"count\": count($record)}"
   ]
  },
  {
   "cell_type": "markdown",
   "metadata": {},
   "source": [
    "#### 4. How many PushEvents were there in the repo with the greatest number of ForkEvent?"
   ]
  },
  {
   "cell_type": "code",
   "execution_count": null,
   "metadata": {},
   "outputs": [],
   "source": [
    "%%jsoniq\n",
    "for $record in json-file(\"git-archive.json\")\n",
    "let $repository := $record.repo.id\n",
    "let $repository_name := $record.repo.name\n",
    "group by $repository, $repository_name\n",
    "let $events := [count($record[$$.type = \"PushEvent\"]), count($record[$$.type = \"ForkEvent\"])]\n",
    "order by $events[[2]] descending\n",
    "return {\"repo\": $repository, \"PushEvents\": $events[[1]], \"ForkEvents\": $events[[2]], \"name\": $repository_name}"
   ]
  },
  {
   "cell_type": "markdown",
   "metadata": {},
   "source": [
    "#### 5. In how many repos did the author Travis CI User commit?"
   ]
  },
  {
   "cell_type": "code",
   "execution_count": null,
   "metadata": {},
   "outputs": [],
   "source": [
    "%%jsoniq\n",
    "count(\n",
    "    for $record in json-file(\"git-archive.json\")\n",
    "    for $author in $record.payload.commits[].author.name\n",
    "    where $author = \"Travis CI User\"\n",
    "    let $repo := $record.repo.name\n",
    "    group by $repo\n",
    "    order by count($record) descending\n",
    "    return {\"repo\": $repo, \"count\": count($record)}\n",
    ")"
   ]
  },
  {
   "cell_type": "markdown",
   "metadata": {},
   "source": [
    "#### 6. When did the last ForkEvent in the repo \"bitcoin/bitcoin\" happen?"
   ]
  },
  {
   "cell_type": "code",
   "execution_count": null,
   "metadata": {},
   "outputs": [],
   "source": [
    "%%jsoniq\n",
    "for $event in json-file(\"git-archive.json\")\n",
    "where $event.type = \"ForkEvent\" and $event.repo.name = \"bitcoin/bitcoin\"\n",
    "order by $event.created_at descending\n",
    "return $event.created_at"
   ]
  },
  {
   "cell_type": "markdown",
   "metadata": {},
   "source": [
    "#### 7. How many PullRequestEvent were issued in 2018?"
   ]
  },
  {
   "cell_type": "code",
   "execution_count": null,
   "metadata": {},
   "outputs": [],
   "source": [
    "%%jsoniq\n",
    "count(distinct-values(\n",
    "    for $record in json-file(\"git-archive.json\")\n",
    "    where $record.type = \"PullRequestEvent\" and substring($record.created_at, 1, 4) eq \"2018\"\n",
    "    return $record.id\n",
    "))"
   ]
  },
  {
   "cell_type": "markdown",
   "metadata": {},
   "source": [
    "#### 8. How many events did the author \"SLE Merge Robot\" commit to the repo \"yast/yast-translations\"?"
   ]
  },
  {
   "cell_type": "code",
   "execution_count": null,
   "metadata": {},
   "outputs": [],
   "source": [
    "%%jsoniq\n",
    "count(\n",
    "    for $record in json-file(\"git-archive.json\")\n",
    "    where $record.repo.name eq \"yast/yast-translations\"\n",
    "    for $author in $record.payload.commits[].author.name\n",
    "    where $author eq \"SLE Merge Robot\"\n",
    "    return $author\n",
    ")"
   ]
  },
  {
   "cell_type": "markdown",
   "metadata": {},
   "source": [
    "#### 9. What repo has the highest number of commits?"
   ]
  },
  {
   "cell_type": "code",
   "execution_count": null,
   "metadata": {},
   "outputs": [],
   "source": [
    "%%jsoniq\n",
    "for $record in json-file(\"git-archive.json\")\n",
    "let $repo := $record.repo.name\n",
    "group by $repo\n",
    "let $comms := sum(count($record.payload.commits[]))\n",
    "order by $comms descending\n",
    "return {\"repo\": $repo, \"comms\": $comms}"
   ]
  },
  {
   "cell_type": "markdown",
   "metadata": {},
   "source": [
    "#### 10. How many repos are there in the dataset?"
   ]
  },
  {
   "cell_type": "code",
   "execution_count": null,
   "metadata": {},
   "outputs": [],
   "source": [
    "%%jsoniq\n",
    "count(distinct-values(\n",
    "    for $record in json-file(\"git-archive.json\")\n",
    "    return $record.repo.name\n",
    "))"
   ]
  },
  {
   "cell_type": "markdown",
   "metadata": {},
   "source": [
    "#### 11. Give the login name of the two actors that committed to master the most in PushEvent events."
   ]
  },
  {
   "cell_type": "code",
   "execution_count": null,
   "metadata": {},
   "outputs": [],
   "source": [
    "%%jsoniq\n",
    "for $i in json-file(\"git-archive-big.json\")\n",
    "where $i.type eq \"PushEvent\" and $i.payload.ref eq \"refs/heads/master\"\n",
    "let $name := $i.actor.login\n",
    "let $commits := size($i.payload.commits)\n",
    "group by $name\n",
    "order by sum($commits) descending\n",
    "return {\"name\": $name, \"commits\": sum($commits)}"
   ]
  },
  {
   "cell_type": "markdown",
   "metadata": {},
   "source": [
    "#### 12. For how many repos do we have both a creation and deletion event in the data?"
   ]
  },
  {
   "cell_type": "code",
   "execution_count": null,
   "metadata": {},
   "outputs": [],
   "source": [
    "%%jsoniq\n",
    "count(\n",
    "    for $i in json-file(\"git-archive-big.json\")\n",
    "    where $i.type eq \"CreateEvent\" or $i.type eq \"DeleteEvent\"\n",
    "    let $repo_id := $i.repo.id\n",
    "    group by $repo_id\n",
    "    where count(distinct-values($i.type)) eq 2\n",
    "    return $repo_id)"
   ]
  },
  {
   "cell_type": "code",
   "execution_count": null,
   "metadata": {},
   "outputs": [],
   "source": [
    "%%jsoniq\n",
    "count(distinct-values(\n",
    "    for $record in json-file(\"git-archive-big.json\")\n",
    "    let $repo_id := $record.repo.id\n",
    "    group by $repo_id\n",
    "    let $x := [$record.type]\n",
    "    where some $i in $x[] satisfies $i = \"DeleteEvent\"\n",
    "    where some $i in $x[] satisfies $i = \"CreateEvent\"\n",
    "    return $repo_id\n",
    "))"
   ]
  },
  {
   "cell_type": "code",
   "execution_count": null,
   "metadata": {},
   "outputs": [],
   "source": [
    "%%jsoniq\n",
    "count(distinct-values(\n",
    "    for $repo_push in (\n",
    "        for $record in json-file(\"git-archive-big.json\")[$$.type = \"CreateEvent\"]\n",
    "        return $record.repo.id\n",
    "    )\n",
    "    let $repo_push_delete := (\n",
    "        for $record in json-file(\"git-archive-big.json\")[$$.type = \"DeleteEvent\"]\n",
    "        return $record.repo.id\n",
    "    )[$$ = $repo_push]\n",
    "    return $repo_push_delete\n",
    "))"
   ]
  },
  {
   "cell_type": "markdown",
   "metadata": {},
   "source": [
    "#### 13. Which repository has the highest number of people pushing to it?"
   ]
  },
  {
   "cell_type": "code",
   "execution_count": null,
   "metadata": {},
   "outputs": [],
   "source": [
    "%%jsoniq\n",
    "for $i in json-file(\"git-archive-big.json\")\n",
    "where $i.type eq \"PushEvent\"\n",
    "let $repo_id := $i.repo.id\n",
    "group by $repo_id\n",
    "order by count(distinct-values($i.actor.id)) descending\n",
    "return {\"repo_id\": $repo_id, \"How many people pushed?\": count(distinct-values($i.actor.id))}"
   ]
  }
 ],
 "metadata": {
  "language_info": {
   "name": "python"
  }
 },
 "nbformat": 4,
 "nbformat_minor": 2
}
